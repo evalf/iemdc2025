{
 "cells": [
  {
   "cell_type": "markdown",
   "id": "5d07f476-d611-4533-810b-63b3d31ceac1",
   "metadata": {},
   "source": [
    "# Exercise 2: Variable flux reluctance machine\n",
    "\n",
    "Having discussed the implementation details of a model of a simplified reluctance machine in exercise 1, we continue with a realistic variable flux reluctance machine. The realistic machine consists of a stator with twelve teeth and coils, grouped in three phases, and a rotor with ten teeth.\n",
    "\n",
    "![domain](exercise2.svg)\n",
    "\n",
    "Contrary to the model of exercise 1, the model used here has a rotating rotor and the magnetic field will be solved in space and mechanical angle (or equivalently time assuming the angular velocity is constant) simultaneously. Because of the complexity of the geometry, the rotation of the rotor and solving for a range of mechanical angles simultaneously, the model is not included in this notebook, but in file [vfrm.py](vfrm.py). From this file we import class `Machine`, which"
   ]
  },
  {
   "cell_type": "code",
   "execution_count": null,
   "id": "86505361-9d7e-4aa5-ace1-9610befdbcc6",
   "metadata": {},
   "outputs": [],
   "source": [
    "from vfrm import Driver, Geometry, Machine, Angle, AngularFrequency, ElectricCurrent, Torque, Power\n",
    "import nutils.function\n",
    "import treelog_notebook"
   ]
  },
  {
   "cell_type": "markdown",
   "id": "4fb6c8b4-219d-4232-af1f-711d7317acc4",
   "metadata": {},
   "source": [
    "Class `Driver` describes the AC and DC currents that drive the motor and the mechanical angular frequency. Class `Machine` contains the entire mathematical description of the motor, including the namespace from the example 1 and plotting functions. We create an instance of `Driver` with `nutils.function.Argument`s such that we can later change these values without rerunning this entire notebook and peform an optimization. Then we create an instance of `Machine` given the `driver` instance. During instantiation of the `Machine` a mesh will be generated using gmsh, which will take a bit of time."
   ]
  },
  {
   "cell_type": "code",
   "execution_count": null,
   "id": "2c0095d5-bc91-4c58-895e-157586dab93d",
   "metadata": {
    "scrolled": true
   },
   "outputs": [],
   "source": [
    "driver = Driver(\n",
    "    peak_ac_current=nutils.function.Argument('Iacpeak', ()) * ElectricCurrent('A'),\n",
    "    dc_current=nutils.function.Argument('Idc', ()) * ElectricCurrent('A'),\n",
    "    mechanical_angular_frequency=nutils.function.Argument('speed', ()) * AngularFrequency('rpm'),\n",
    ")\n",
    "machine = Machine(driver=driver)"
   ]
  },
  {
   "cell_type": "markdown",
   "id": "56161bfd-af88-4a5b-aa91-678fd4edb696",
   "metadata": {},
   "source": [
    "Plot the generated mesh."
   ]
  },
  {
   "cell_type": "code",
   "execution_count": null,
   "id": "86d9a5a6-46ff-4370-b687-510761812f70",
   "metadata": {},
   "outputs": [],
   "source": [
    "machine.plot_mesh()"
   ]
  },
  {
   "cell_type": "markdown",
   "id": "2bc0f820-6608-473e-9a3e-2b1ed4fa9a1a",
   "metadata": {},
   "source": [
    "The model is solved given the input currents, which are identified as peak value for AC currents and the constant current. The results are stored in `args`. This takes a long time."
   ]
  },
  {
   "cell_type": "code",
   "execution_count": null,
   "id": "2fa8cf1a-fe34-4003-87d6-90fc0f2022c4",
   "metadata": {},
   "outputs": [],
   "source": [
    "args = dict(\n",
    "    Iacpeak=30, # unit: A\n",
    "    Idc=25, # unit: A\n",
    "    speed=1000, # unit: rpm\n",
    ")\n",
    "args = machine.solve(arguments=args)"
   ]
  },
  {
   "cell_type": "markdown",
   "id": "065ca5fd-eeb3-41f5-8560-15d4f351e5fb",
   "metadata": {},
   "source": [
    "Once the magnetic model is solved, we have access to the solution for the entire timeslab. We could plot various field quantities at different mechanical angles `thetam` (between 0 and 6 degrees only)."
   ]
  },
  {
   "cell_type": "code",
   "execution_count": null,
   "id": "ee2536af-5457-4a2d-ab86-cc52d528ab9b",
   "metadata": {},
   "outputs": [],
   "source": [
    "machine.plot_field(\n",
    "    'sqrt(B_i B_i)', 'T',\n",
    "    thetam=Angle('0deg'),\n",
    "    arguments=args,\n",
    "    contours='A2',\n",
    ")"
   ]
  },
  {
   "cell_type": "markdown",
   "id": "4c1401af-41ce-4556-9abc-f483d83b1883",
   "metadata": {},
   "source": [
    "We can also plot time series of quantities that are invariant to space, such as flux, emf, phase currents and voltages and the torque."
   ]
  },
  {
   "cell_type": "code",
   "execution_count": null,
   "id": "701eaffc-1179-4239-a4e2-fc8c858e9404",
   "metadata": {},
   "outputs": [],
   "source": [
    "machine.plot_thetam('flux_i', 'mWb', phase=True, arguments=args)\n",
    "\n",
    "# Other time series plots to try:\n",
    "#\n",
    "# AC emf per turn:    machine.plot_thetam('dt(flux_i)', 'V', phase=True, arguments=args)\n",
    "# AC emf:             machine.plot_thetam('emf_i', 'V', phase=True, arguments=args)\n",
    "# AC current:         machine.plot_thetam('Iac_i', 'A', phase=True, arguments=args)\n",
    "# AC voltage:         machine.plot_thetam('Uac_i', 'V', phase=True, arguments=args)\n",
    "# torque:             machine.plot_thetam('torque', 'N*m', arguments=args)"
   ]
  },
  {
   "cell_type": "markdown",
   "id": "2cbe8aae-9821-4f58-bc79-64924aa2a110",
   "metadata": {},
   "source": [
    "And we can print time-average quantities like the average rotor torque and power, and ac and dc power."
   ]
  },
  {
   "cell_type": "code",
   "execution_count": null,
   "id": "d01125ee-8954-4e10-90c5-ef33ae52b192",
   "metadata": {},
   "outputs": [],
   "source": [
    "machine.print_scalar('Tavg(torque)', 'N*m', arguments=args)\n",
    "\n",
    "# Other scalars to print:\n",
    "#\n",
    "# average AC power:          machine.print_scalar('Tavg(Uac_i Iac_i)', 'W', arguments=args)\n",
    "# average AC copper losses:  machine.print_scalar('Tavg(Rac Iac_i Iac_i)', 'W', arguments=args)\n",
    "# average AC power:          machine.print_scalar('Tavg(Pac)', 'W', arguments=args)\n",
    "# average DC power:          machine.print_scalar('Tavg(Udc Idc)', 'W', arguments=args)\n",
    "# average DC power:          machine.print_scalar('Tavg(Pdc)', 'W', arguments=args)\n",
    "# average DC copper losses:  machine.print_scalar('Tavg(Rdc Idc Idc)', 'W', arguments=args)\n",
    "# average rotor power:       machine.print_scalar('Tavg(torque) omegam', 'W', arguments=args)\n",
    "# average rotor power:       machine.print_scalar('Tavg(Protor)', 'W', arguments=args)"
   ]
  },
  {
   "cell_type": "markdown",
   "id": "dcf250a6-33b3-452c-9f09-d5e167a52451",
   "metadata": {},
   "source": [
    "We finish this exercise with a minimization problem: find the AC peak current and the DC current that minimizes the average input power for a torque of `10 N*m`.\n",
    "\n",
    "The average input power is given by\n",
    "\n",
    "$$ \\frac{1}{T} \\int_0^T (P_\\text{ac} + P_\\text{dc}) \\ \\mathrm dT. $$\n",
    "\n",
    "We impose the torque using a lagrange multiplier $\\lambda_\\tau$. This gives the minimization problem: minimize $f$ for $I_\\text{acpeak}$, $I_\\text{dc}$ and $\\lambda_\\tau$ where\n",
    "\n",
    "$$ f := \\frac{1}{T} \\int_0^T \\left( \\frac{1}{P_\\text{ref}} (P_\\text{ac} + P_\\text{dc}) + \\frac{1}{\\tau_\\text{ref}} \\lambda_\\tau (\\tau - \\tau_\\text{target}) \\right)\\ \\mathrm dT, $$\n",
    "\n",
    "and $P_\\text{ref} = W$ and $\\tau_\\text{ref} = N\\ m$ are reference values to make the function $f$ dimensionless."
   ]
  },
  {
   "cell_type": "code",
   "execution_count": null,
   "id": "59f26d1b-3a50-4bca-8a82-d987e1f1fd3e",
   "metadata": {},
   "outputs": [],
   "source": [
    "from nutils_solver_extra import minimize\n",
    "\n",
    "ns = machine.ns.copy_()\n",
    "ns.Pref = Power('W')\n",
    "ns.torqueref = Torque('N*m')\n",
    "ns.torquetarget = Torque('10N*m')\n",
    "ns.lambdatorque = nutils.function.Argument('lambdatorque', ())\n",
    "ns.f = 'Tavg((Pac + Pdc) / Pref + lambdatorque (torque - torquetarget) / torqueref)'\n",
    "\n",
    "args = minimize(\n",
    "    ns.f,\n",
    "    'Iacpeak,Idc,lambdatorque',\n",
    "    machine.residual,\n",
    "    machine.trials,\n",
    "    machine.tests,\n",
    "    constrain=machine.constraints,\n",
    "    tol=1e-8,\n",
    "    arguments=args,\n",
    ")\n",
    "\n",
    "machine.print_scalar('Tavg(torque)', 'N*m', arguments=args)\n",
    "machine.print_scalar('Iacpeak', 'A', arguments=args)\n",
    "machine.print_scalar('Idc', 'A', arguments=args)\n",
    "machine.print_scalar('Tavg(Pac)', 'W', arguments=args)\n",
    "machine.print_scalar('Tavg(Pdc)', 'W', arguments=args)\n",
    "machine.print_scalar('Tavg(Pac + Pdc)', 'W', arguments=args)\n",
    "machine.print_scalar('Tavg(Protor)', 'W', arguments=args)"
   ]
  }
 ],
 "metadata": {
  "kernelspec": {
   "display_name": "Python 3 (ipykernel)",
   "language": "python",
   "name": "python3"
  },
  "language_info": {
   "codemirror_mode": {
    "name": "ipython",
    "version": 3
   },
   "file_extension": ".py",
   "mimetype": "text/x-python",
   "name": "python",
   "nbconvert_exporter": "python",
   "pygments_lexer": "ipython3",
   "version": "3.11.2"
  }
 },
 "nbformat": 4,
 "nbformat_minor": 5
}
