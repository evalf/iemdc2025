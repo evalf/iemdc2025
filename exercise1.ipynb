{
 "cells": [
  {
   "cell_type": "markdown",
   "id": "2c99a4be-609f-4f9a-b285-c4bb4dc7a5f6",
   "metadata": {},
   "source": [
    "# Exercise 1: Simplified motor\n",
    "\n",
    "In this exercise you will learn how to set up a simulation of the magnetic field of a simplified motor using the open-source Finite Element library [Nutils]. The motor consists of a single coil and an ellipsoidal, iron rotor. We assume that the magnetic field in the domain of interest does not vary in the direction of rotation, hence the simulation will be essentially 2D. Furthermore, we'll simulate only a single point in time. The following figure shows the 2D domain $X$:\n",
    "\n",
    "![domain](exercise1.svg)\n",
    "\n",
    "\n",
    "The grey area, $X_\\text{rotor}$, is the rotor. The red area, $X_\\text{p}$, is the section of the coil with positive current density in direction $x_2$ (normal to this screen, towards you) and the blue area, $X_\\text{n}$ the section with negative current density. The coil consists of $n_\\text{turns}$ turns, evenly distributed, such that the current density is constant:\n",
    "\n",
    "$$ J_i = \\delta_{i2} I n_\\text{turns} \\begin{cases}\n",
    "    \\left( \\int_{X_\\text{p}} \\mathrm dV \\right) ^{-1} & \\text{on } X_\\text{p} \\\\\n",
    "    -\\left( \\int_{X_\\text{n}} \\mathrm dV \\right) ^{-1} & \\text{on } X_\\text{n} \\\\\n",
    "    0 & \\text{elsewhere}\n",
    "\\end{cases} $$\n",
    "\n",
    "The magnetic reluctivity is the reluctivity of vacuum everywhere except in $X_\\text{rotor}$ where the reluctivity is a 5000th of vacuum:\n",
    "\n",
    "$$ \\nu = \\begin{cases} \\nu_0 / 5000 & \\text{on } X_\\text{rotor} \\\\ \\nu_0 & \\text{elsewhere} \\end{cases} $$\n",
    "\n",
    "The objective is to determine the torque applied to the rotor. For this we need to solve the magnetic field in the domain of interest. In 3D the magnetic field is described by\n",
    "\n",
    "$$ \\nabla_j\\left(\\nu \\nabla_j(A_i)\\right) = -J_i, $$\n",
    "\n",
    "where $A$ is the magnetic vector potential, $\\nu$ is the piecewise constant reluctivity and $J$ is the current density. The magnetic field density is then given by the curl of $A$, $B_i = \\epsilon_{ijk} \\nabla_j(A_k)$. We assume that the magnetic field does not vary in $x_2$, $\\nabla_2(B_i) = 0$, hence $A_0$ and $A_1$ are zero and the governing equation simplifies to\n",
    "\n",
    "$$ \\nabla_i\\left(\\nu \\nabla_i(A_2)\\right) = -J_2. \\quad\\text{on } X. $$\n",
    "\n",
    "Given the magnetic vector potential, we can determine the torque by integrating the Maxwell stress tensor over an annulus enclosing the rotor.\n",
    "\n",
    "[Nutils]: https://nutils.org"
   ]
  },
  {
   "cell_type": "markdown",
   "id": "9d518426-3453-4530-beec-09a7fbfe3477",
   "metadata": {},
   "source": [
    "## Import modules\n",
    "\n",
    "We start with importing the Python modules we need in this script: [Nutils] (the Finite Element library), [NumPy] and [Matplotlib] (the scientific plotting library).\n",
    "\n",
    "[Nutils]: https://nutils.org/\n",
    "[NumPy]: https://numpy.org/\n",
    "[Matplotlib]: https://matplotlib.org/"
   ]
  },
  {
   "cell_type": "code",
   "execution_count": null,
   "id": "34dce714-f0f6-41ba-bff8-ae5d8848d89c",
   "metadata": {},
   "outputs": [],
   "source": [
    "import csgmsh.mesh\n",
    "from csgmsh.shape import Circle, Ellipse\n",
    "import numpy\n",
    "import nutils.export, nutils.function, nutils.mesh\n",
    "from nutils.expression_v2 import Namespace\n",
    "from nutils.solver import System\n",
    "from matplotlib import pyplot\n",
    "import treelog_notebook"
   ]
  },
  {
   "cell_type": "markdown",
   "id": "7da6c08f-ce02-404d-aaf4-e834953cf6e4",
   "metadata": {},
   "source": [
    "## Define the units\n",
    "\n",
    "SI units are imported from the Nutils library, other units, such as the ones for permeability and torque are defined separately"
   ]
  },
  {
   "cell_type": "code",
   "execution_count": null,
   "id": "bf51e76f-298a-4b1c-bc8d-8ebf4c2a0a88",
   "metadata": {},
   "outputs": [],
   "source": [
    "from nutils.SI import CurrentDensity, ElectricCurrent, Force, Length, MagneticFieldStrength, MagneticFluxDensity, Quantity\n",
    "MagneticPotential = MagneticFluxDensity * Length\n",
    "Permeability = MagneticFluxDensity / MagneticFieldStrength\n",
    "Torque = Force * Length"
   ]
  },
  {
   "cell_type": "markdown",
   "id": "709fdfe3-b93e-4f7c-882b-3879baa64044",
   "metadata": {},
   "source": [
    "## Define parameters\n",
    "\n",
    "We define a set of problem specific parameters. The radius of the domain $X$ as `domain_radius`, the stack length as `lstack` and the number of turns of the coil as `nturns`. When changing these parameters the entire script should be run again.\n",
    "\n",
    "The current flowing through the coil, `I`, is defined as a `nutils.function.Argument`, which allows the value to be changed via the `args` dictionary without rerunning the entire script."
   ]
  },
  {
   "cell_type": "code",
   "execution_count": null,
   "id": "52edfec3-e215-438d-bb74-7a9ee4ef376b",
   "metadata": {},
   "outputs": [],
   "source": [
    "domain_radius = Length('10cm')\n",
    "lstack = Length('10cm') # stack length\n",
    "nturns = 100\n",
    "\n",
    "I = nutils.function.Argument('I', ()) * ElectricCurrent('A')\n",
    "args = dict(I=10.)"
   ]
  },
  {
   "cell_type": "markdown",
   "id": "e679d377-92ed-4d9f-be9c-464e1350b941",
   "metadata": {},
   "source": [
    "## Define reference values\n",
    "\n",
    "We define a set of reference values to make quantities dimensionles. This will be used for generating the mesh and the weak form below."
   ]
  },
  {
   "cell_type": "code",
   "execution_count": null,
   "id": "84506c1f-70a9-4e9f-a569-dbc1de8f3ab7",
   "metadata": {},
   "outputs": [],
   "source": [
    "ref_length = domain_radius\n",
    "ref_area = numpy.pi * domain_radius**2\n",
    "ref_flux_density = MagneticFluxDensity('T')"
   ]
  },
  {
   "cell_type": "markdown",
   "id": "87219d93-e7d5-4479-88c2-4dcc1860322b",
   "metadata": {},
   "source": [
    "## Generate mesh\n",
    "\n",
    "We use [gmsh] to generate a mesh for domain $X$. The Python library [csgmsh] provides a convenient interface for defining the relevant subdomains, collected in variable `groups`. [gmsh] writes the generated mesh to a file. As [gmsh] doesn't support dimensional quantities, we generate a mesh in dimensionless quantities by dividing all lengths by `ref_length`.\n",
    "\n",
    "[gmsh]: https://gmsh.info/\n",
    "[csgmsh]: https://github.com/evalf/csgmsh"
   ]
  },
  {
   "cell_type": "code",
   "execution_count": null,
   "id": "e884bfcc-935b-4566-bc0b-96376592d6c8",
   "metadata": {},
   "outputs": [],
   "source": [
    "R = domain_radius / ref_length\n",
    "R_inner_torque_probe = .35 * R\n",
    "height_torque_probe = 0.1 * domain_radius\n",
    "R_outer_torque_probe = R_inner_torque_probe + height_torque_probe / ref_length\n",
    "shaft = Circle(radius=.1*R)\n",
    "groups = dict(\n",
    "    domain = Circle(radius=R) - shaft,\n",
    "    p = Circle(radius=.1*R, center=[-.5*R,.3*R]),\n",
    "    n = Circle(radius=.1*R, center=[ .5*R,.3*R]),\n",
    "    rotor = Ellipse(width=.6*R, height=.4*R, angle=30) - shaft,\n",
    "    torque_probe = Circle(radius=R_outer_torque_probe) - Circle(radius=R_inner_torque_probe),\n",
    ")\n",
    "csgmsh.mesh.write('exercise1.msh', groups=groups, elemsize=0.1*R, order=2)"
   ]
  },
  {
   "cell_type": "markdown",
   "id": "8b578ff4-c798-4a37-b0b9-cb8ffbb22f41",
   "metadata": {},
   "source": [
    "## Initialize a namespace\n",
    "\n",
    "A Nutils [Namespace] is a collection of variables and a parser for expressions using [Einstein notation]. We create an empty namespace here and we will fill the namespace bit by bit in the following sections.\n",
    "\n",
    "[Namespace]: https://docs.nutils.org/en/stable/nutils/expression_v2/#nutils.expression_v2.Namespace\n",
    "[Einstein notation]: https://en.wikipedia.org/wiki/Einstein_notation"
   ]
  },
  {
   "cell_type": "code",
   "execution_count": null,
   "id": "b53c3334-6e7f-4a59-89ff-db214087dca5",
   "metadata": {},
   "outputs": [],
   "source": [
    "ns = Namespace()"
   ]
  },
  {
   "cell_type": "markdown",
   "id": "a67c24ad-4366-4359-a9da-a9efabe55702",
   "metadata": {},
   "source": [
    "To understand how the namespace and namespace expressions work, let's write a matrix-vector product (unrelated to the motor problem). We first define a matrix `ns.M` and a vector `ns.b`."
   ]
  },
  {
   "cell_type": "code",
   "execution_count": null,
   "id": "51197747-8099-492c-9f28-cc8e691e5bb6",
   "metadata": {},
   "outputs": [],
   "source": [
    "ns.M = numpy.array([[0., 1.], [-1., 0.]])\n",
    "ns.b = numpy.array([2., 3.])"
   ]
  },
  {
   "cell_type": "markdown",
   "id": "5b8c01ee-b70c-4cfd-b39b-114b79ce8606",
   "metadata": {},
   "source": [
    "The matrix-vector product of `M` and `b` written as a namespace expression is `'M_ij b_j'`. The expression can be parsed into a `nutils.function.Array` (similar to a `numpy.array`, but with delayed execution) using `expr @ ns`. The resulting `nutils.function.Array` can be evaluated to a `numpy.array` using `nutils.function.eval()`. Combining everything:"
   ]
  },
  {
   "cell_type": "code",
   "execution_count": null,
   "id": "be171c83-482b-45f4-a25e-aac3f5d859cf",
   "metadata": {},
   "outputs": [],
   "source": [
    "nutils.function.eval('M_ij b_j' @ ns)"
   ]
  },
  {
   "cell_type": "markdown",
   "id": "08938e2f-4043-4755-b0bf-79d8c0b3773c",
   "metadata": {},
   "source": [
    "You can also assign to a namespace using a namespace expression by suffixing the name of the attribute with the remaining indices. For example, let's assign the matrix-vector product to `ns.c`:"
   ]
  },
  {
   "cell_type": "code",
   "execution_count": null,
   "id": "12550ff0-a8b3-4ee2-bfdf-7c82a00c1a7e",
   "metadata": {},
   "outputs": [],
   "source": [
    "ns.c_i = 'M_ij b_j'\n",
    "nutils.function.eval(ns.c)"
   ]
  },
  {
   "cell_type": "markdown",
   "id": "32b33966-94dc-4a02-86a4-f43b3c5ffa9d",
   "metadata": {},
   "source": [
    "## Load mesh\n",
    "\n",
    "We load the mesh generated in the previous step with Nutils. Nutils separates the mesh into a [topology] and a geometry, respectively variables `X` and `ns.x` in the code below. This separation allows the geometry to be variable ([example](https://examples.nutils.org/official-turek/)). The mesh was generated with dimensionless quantities w.r.t. reference `ref_length`. We multiply the geometry with `ref_length` to obtain the geometry with correct dimensions.\n",
    "\n",
    "[topology]: https://docs.nutils.org/en/stable/nutils/topology/#nutils.topology.Topology"
   ]
  },
  {
   "cell_type": "code",
   "execution_count": null,
   "id": "04d60442-ec04-4dd9-8368-520cbcdb0503",
   "metadata": {},
   "outputs": [],
   "source": [
    "X, ns.x = nutils.mesh.gmsh('exercise1.msh')\n",
    "ns.x *= ref_length"
   ]
  },
  {
   "cell_type": "markdown",
   "id": "67980602-c69d-4414-93ff-b0f51f24b95b",
   "metadata": {},
   "source": [
    "We also define the gradient operator `ns.grad`, the jacobians `ns.dS` and `ns.dL` and the normal `ns.n` w.r.t. geometry `ns.x`."
   ]
  },
  {
   "cell_type": "code",
   "execution_count": null,
   "id": "1a53e41f-5677-4fad-b92d-1766282e21a4",
   "metadata": {},
   "outputs": [],
   "source": [
    "# define ns.grad, ns.dS, ns.dL and ns.n using ns.x\n",
    "ns.define_for('x', gradient='grad', jacobians=('dS', 'dL'), normal='n')"
   ]
  },
  {
   "cell_type": "markdown",
   "id": "e9b4a4ca-3adc-49d9-83d1-e47b02f8b65a",
   "metadata": {},
   "source": [
    " And we define the polar coordinates `ns.r` and `ns.phi` and unit vectors `ns.er` and `ns.ephi`."
   ]
  },
  {
   "cell_type": "code",
   "execution_count": null,
   "id": "5a2fc607-d6cf-42b2-aa0b-98c6b3293333",
   "metadata": {},
   "outputs": [],
   "source": [
    "ns.r = numpy.linalg.norm(ns.x)\n",
    "ns.phi = numpy.arctan2(ns.x[1] / ref_length, ns.x[0] / ref_length)\n",
    "\n",
    "ns.er = nutils.function.normalized('grad_i(r)' @ ns)\n",
    "ns.ephi = nutils.function.normalized('grad_i(phi)' @ ns)"
   ]
  },
  {
   "cell_type": "markdown",
   "id": "799de3c0-ddcf-4815-9dc2-739a6150cbe2",
   "metadata": {},
   "source": [
    "Finally we define `ns.lstack` as the stack length of the motor. This is simply a copy of the variable we have defined earlier, such that we can use `lstack` also in namespace expressions."
   ]
  },
  {
   "cell_type": "code",
   "execution_count": null,
   "id": "d6b19789-0984-4612-8d12-8121c3e273a7",
   "metadata": {},
   "outputs": [],
   "source": [
    "ns.lstack = lstack"
   ]
  },
  {
   "cell_type": "markdown",
   "id": "7c660e1a-5862-4f97-bf4b-92eb595e5626",
   "metadata": {},
   "source": [
    "## Define plot function\n",
    "\n",
    "We define functions `plot_field(fun, unit, **kwargs)` and `print_scalar(scalar, unit)`. Skip the implementation on first reading."
   ]
  },
  {
   "cell_type": "code",
   "execution_count": null,
   "id": "5b5a9d6f-e28e-4e8f-a9a3-4a7841d81ab8",
   "metadata": {},
   "outputs": [],
   "source": [
    "smpl = X.sample('bezier', 5)\n",
    "bnd_smpl = X.boundary.sample('bezier', 5)\n",
    "\n",
    "smpld_x = smpl.eval(ns.x)\n",
    "bnd_smpld_x = bnd_smpl.eval(ns.x)\n",
    "\n",
    "def plot_field(v, vunit=None, *, vlabel=None, title=None, clim=None, contours=None, **kwargs):\n",
    "    xunit = 'cm'\n",
    "    if isinstance(v, str):\n",
    "        if vlabel is None:\n",
    "            vlabel = v\n",
    "        if title is None:\n",
    "            title = v\n",
    "        v = v @ ns\n",
    "    v = smpl.eval(v, args or {})\n",
    "    if vunit is not None:\n",
    "        v /= vunit\n",
    "    if isinstance(clim, str) and clim == 'symmetric':\n",
    "        vmax = numpy.max(abs(v))\n",
    "        clim = -vmax, vmax\n",
    "    with nutils.export.mplfigure(f'{title}.png') as fig:\n",
    "        ax = fig.add_subplot(1, 1, 1)\n",
    "        nutils.export.triplot(ax, bnd_smpld_x / xunit, hull=bnd_smpl.tri)\n",
    "        im = nutils.export.triplot(\n",
    "            ax,\n",
    "            smpld_x / xunit,\n",
    "            v,\n",
    "            tri=smpl.tri,\n",
    "            clim=clim,\n",
    "            **kwargs)\n",
    "        if contours is not None:\n",
    "            if isinstance(contours, str):\n",
    "                contours = contours @ ns\n",
    "            if isinstance(contours, Quantity):\n",
    "                contours = contours.unwrap()\n",
    "            contours = smpl.eval(contours, args or {})\n",
    "            x_units = smpld_x / xunit\n",
    "            ax.tricontour(x_units.T[0], \n",
    "                          x_units.T[1],\n",
    "                          smpl.tri, \n",
    "                          contours,\n",
    "                          levels = numpy.linspace(contours.min(), contours.max(), num = 14),\n",
    "                          colors = 'w', linestyles = 'solid', linewidths = .9)\n",
    "            \n",
    "        ax.set_xlabel(f'$x_0$ [{xunit}]')\n",
    "        ax.set_ylabel(f'$x_1$ [{xunit}]')\n",
    "        fig.colorbar(im, label=vlabel if vunit is None else f'{vlabel or \"\"} [{vunit}]')\n",
    "        if title is not None:\n",
    "            fig.suptitle(title)\n",
    "\n",
    "\n",
    "def print_scalar(expr, unit=None):\n",
    "    v = nutils.function.eval(expr @ ns, args or {})\n",
    "    print((f'{expr}: {{:.3{unit}}}' if unit else f'{expr}: {{}}').format(v))"
   ]
  },
  {
   "cell_type": "markdown",
   "id": "2e11f4d8-2bc8-4b6c-8569-a22b9118edda",
   "metadata": {},
   "source": [
    "With `plot_field(fun)` we can plot functions (`nutils.function.Array`) on the topology `X`. For example we can define a subdomain marker function `subdomain_marker` where every non-overlapping subdomain gets a unique number and plot the marker on topology `X`.\n",
    "\n",
    "`X.indicator('subdom')` is a function that evaluates to 1 inside $X_\\text{subdom}$ and 0 elsewhere."
   ]
  },
  {
   "cell_type": "code",
   "execution_count": null,
   "id": "a24f6f2c-940c-44e2-9567-542805c61b0d",
   "metadata": {},
   "outputs": [],
   "source": [
    "subdomain_marker = 1 * X.indicator('p') + 2 * X.indicator('n') + 3 * X.indicator('rotor') + 4 * X.indicator('torque_probe')\n",
    "plot_field(subdomain_marker, hull=smpl.hull, cmap='tab10', title='mesh')"
   ]
  },
  {
   "cell_type": "markdown",
   "id": "ac630f7c-59a4-47d5-99f0-85c2e7028bd5",
   "metadata": {},
   "source": [
    "The function `print_scalar(expr, unit)` can be used to parse an expression using namespace `ns`, evaluate to a scalar with the current `args` dictionary and print the scalar with the given unit. Example:"
   ]
  },
  {
   "cell_type": "code",
   "execution_count": null,
   "id": "eb832708-4d64-4b00-bec0-3500a5d69a7e",
   "metadata": {},
   "outputs": [],
   "source": [
    "print_scalar('lstack', 'cm')"
   ]
  },
  {
   "cell_type": "markdown",
   "id": "57a4c034-3c3e-4553-a976-fa840226ebb9",
   "metadata": {},
   "source": [
    "## Define knowns\n",
    "\n",
    "We define the magnetic reluctivity `ns.nu` according to the problem description."
   ]
  },
  {
   "cell_type": "code",
   "execution_count": null,
   "id": "87ddea9d-8c5f-4b44-8690-f0c8cf003897",
   "metadata": {},
   "outputs": [],
   "source": [
    "ns.mu0 = 4e-7 * numpy.pi * Permeability('H/m')\n",
    "ns.nu0 = '1 / mu0'\n",
    "ns.nu = ns.nu0 * numpy.choose(X.indicator('rotor'), [1, 1/5000])\n",
    "\n",
    "plot_field('nu', 'm/H')"
   ]
  },
  {
   "cell_type": "markdown",
   "id": "435232b3-e32b-4f55-928e-3d71e279b176",
   "metadata": {},
   "source": [
    " We also define the current density `ns.J2`.\n",
    "\n",
    "`X.indicator('subdom')` is a function that evaluates to 1 inside $X_\\text{subdom}$ and 0 elsewhere. `numpy.choose(index, values)` returns `values[index]` for each element of `index`."
   ]
  },
  {
   "cell_type": "code",
   "execution_count": null,
   "id": "575babde-d93a-4962-af9e-328c92e7af8c",
   "metadata": {},
   "outputs": [],
   "source": [
    "ns.I = I\n",
    "ns.J2 = (X.indicator('p') - X.indicator('n')) * ns.I * nturns \\\n",
    "    / X['p'].integral('dS' @ ns, degree=1)\n",
    "\n",
    "plot_field('J2', 'A/mm2', cmap='bwr', clim='symmetric')"
   ]
  },
  {
   "cell_type": "markdown",
   "id": "8e642a01-6594-405a-b26a-d70d19acaf69",
   "metadata": {},
   "source": [
    "## Define weak formulation\n",
    "\n",
    "The magnetic field is described by the following equation in terms of the magnetic potential $A_2$\n",
    "\n",
    "$$ \\nabla_i\\left(\\nu \\nabla_i(A_2)\\right) = -J_2 \\quad\\text{on } X. $$\n",
    "\n",
    "with Dirichlet boundary condition\n",
    "\n",
    "$$ A_2 = 0 \\quad\\text{at } \\partial X. $$\n",
    "\n",
    "Multiplying the differential equation with a test function $\\beta_2$, integrating over $X$ and applying integration by parts to the laplace term gives the weak formulation: Find $A_2$ such that for all $\\beta_2$\n",
    "\n",
    "$$ R := \\int_X \\left( -\\nu \\nabla_i(\\beta_2) \\nabla_i(A_2) + \\beta_2 J_2 \\right)\\ \\mathrm dS = 0, $$\n",
    "\n",
    "subject to $A_2 = 0$ at $\\partial X$.\n",
    "\n",
    "Finally we make the weak formulation discrete by creating a vector of basis functions $f_i$ on $X$ and restricting $A_2$ and $\\beta_2$ to a linear combination of basis functions, $A_2 = \\hat A_{2i} f_i$ and $\\beta_2 = \\hat \\beta_{2i} f_i$. In the script, `X.field()` does exactly this: return the inner product of a vector of basis functions with a vector of coefficients, a [`nutils.function.Argument`] identified by the name given as first argument to `X.field()`.\n",
    "\n",
    "We define the residual $R$ as `residual` and make the residual dimensionless by appropriate scaling of `ns.beta2` and dividing the residual by a reference area.\n",
    "\n",
    "[`nutils.function.Argument`]: https://docs.nutils.org/en/stable/nutils/function/#nutils.function.Argument"
   ]
  },
  {
   "cell_type": "code",
   "execution_count": null,
   "id": "81d2156b-6a01-44b8-af7b-aab43a99eee2",
   "metadata": {},
   "outputs": [],
   "source": [
    "ns.A2 = X.field('A2', btype='std', degree=2) * ref_flux_density * ref_length\n",
    "ns.beta2 = X.field('beta2', btype='std', degree=2) * ns.mu0 * ref_length / ref_flux_density\n",
    "\n",
    "residual = X.integral('(-nu grad_i(beta2) grad_i(A2) + beta2 J2) dS' @ ns, degree=3) / ref_area"
   ]
  },
  {
   "cell_type": "markdown",
   "id": "6364fb73-b83f-40b9-9794-ac9c5888e1cb",
   "metadata": {},
   "source": [
    "The Dirichlet constraints are obtained by solving the optimization problem\n",
    "\n",
    "$$ g := \\int_{\\partial X} A_2^2 \\ \\mathrm dS = 0 $$\n",
    "\n",
    "for the subset of $\\hat A_{2}$ for which the basis functions $f$ have support on $\\partial X$. The constrained coefficients are stored in `constraints`."
   ]
  },
  {
   "cell_type": "code",
   "execution_count": null,
   "id": "3157eb86-92a4-4874-b6b2-f06d7af7298e",
   "metadata": {},
   "outputs": [],
   "source": [
    "g = X.boundary.integral('A2^2 dL' @ ns, degree=5) / (ref_flux_density**2 * ref_length**3)\n",
    "constraints = System(g, 'A2').solve_constraints(droptol=1e-15)"
   ]
  },
  {
   "cell_type": "markdown",
   "id": "51a56bfa-a9c7-4764-a9f3-e97a615322e4",
   "metadata": {},
   "source": [
    "## Solve and plot\n",
    "\n",
    "With the residual and dirichlet constraints defined, we can solve the discrete problem. The statement `System(residual, trial test).solve(constrain=constraints)` should be read as: For each `test` function find coefficients `trial` such that `residual` vanishes subject to the given Dirichlet `constraints`. Here, `test` and `trial` refer to argument names; the same as given to `X.field()` above. The result of `System.solve()` is a dictionary mapping argument names to the coefficients as `numpy.ndarray`s."
   ]
  },
  {
   "cell_type": "code",
   "execution_count": null,
   "id": "1ab0c1cf-569b-4ccc-abb6-54d292cd42bb",
   "metadata": {},
   "outputs": [],
   "source": [
    "system = System(residual, 'A2', 'beta2')\n",
    "args = system.solve(constrain=constraints, arguments=args)\n",
    "plot_field('A2', 'Wb/m', clim='symmetric', contours='A2')"
   ]
  },
  {
   "cell_type": "markdown",
   "id": "268b0652-9899-435a-8c50-28d4ea67b7d7",
   "metadata": {},
   "source": [
    "## Exercise 1.1: Plot the $x_0$ and $x_1$ components of the $B$-field\n",
    "\n",
    "The $B$-field is the curl of the magnetic vector potential $A$. With the Levi-Civita symbol $\\epsilon$ the curl can be written concisely as\n",
    "\n",
    "$$ B_i = \\epsilon_{ijk} \\nabla_j(A_k). $$\n",
    "\n",
    "Since we assume that the magnetic field does not vary in $x_2$, we can limit the $B$-field to the first two components:\n",
    "\n",
    "$$ B_i = \\epsilon_{ij2} \\nabla_j(A_2) = \\epsilon_{ij} \\nabla_j(A_2). $$\n",
    "\n",
    "**Exercise**: Define the $B$-field as `ns.B` by filling in the dots below and run the cell to plot the $B$-field in direction $x_0$ and $x_1$.\n",
    "\n",
    "**Bonus**: Also plot the radial and angular components of $B$."
   ]
  },
  {
   "cell_type": "code",
   "execution_count": null,
   "id": "e46a1f55-8abb-439e-b47a-ff59e668807f",
   "metadata": {},
   "outputs": [],
   "source": [
    "ns.eps = nutils.function.levicivita(2)\n",
    "ns.B_i = '...' # <-- fill in the dots\n",
    "plot_field('B_0', 'mT', cmap='PiYG', clim='symmetric')\n",
    "plot_field('B_1', 'mT', cmap='PiYG', clim='symmetric')"
   ]
  },
  {
   "cell_type": "markdown",
   "id": "ab896b1d-e5f4-4a75-8ab2-76ba54442aa8",
   "metadata": {},
   "source": [
    "## Exercise 1.2: Compute the flux in the coil\n",
    "\n",
    "The flux $\\Phi$ through a surface $S$ is defined as\n",
    "\n",
    "$$ \\Phi(S) := \\int_S B_k n_{Sk} \\ \\mathrm dS, $$\n",
    "\n",
    "where $n_{Si}$ is a normal of $S$. Substituting the magnetic vector potential for $B$ gives\n",
    "\n",
    "$$ \\Phi(S) = \\int_S \\epsilon_{ijk} \\nabla_i(A_j) n_{Sk} \\ \\mathrm dS. $$\n",
    "\n",
    "By [Stokes' theorem] we can write the surface integral as a contour integral:\n",
    "\n",
    "$$ \\Phi(S) = \\oint_{\\partial S} \\epsilon_{ijk} n_{\\partial Si} A_j n_{Sk} \\ \\mathrm dL, $$\n",
    "\n",
    "where $n_{\\partial Si}$ is the normal of the boundary of $S$.\n",
    "\n",
    "The objective is to compute the flux through the coil, $S_\\text{coil}$ with $n_{S_\\text{coil}}$ pointing in the direction of $x_1$. Since we assume that the magnetic field does not vary in $x_2$ we can simplify the contour integral to\n",
    "\n",
    "$$ \\Phi(S_\\text{coil}) = l_\\text{stack} \\left( \\left. A_2 \\right|_{x=c_p} - \\left. A_2 \\right|_{x=c_n} \\right), $$\n",
    "\n",
    "where $c_p$ is the center of the positive side of the coil, $c_n$ is the center of the negative side of the coil and $l_\\text{stack}$ is the stack length. Out of convenience we approximate $\\left. A_2 \\right|_{x_p}$ with an average of $A_2$ over the entire positive side of the coil, $X_p$, and similarly for $\\left. A_2 \\right|_{x_n}$:\n",
    "\n",
    "$$ \\Phi(S_\\text{coil}) \\approx l_\\text{stack} \\left( \\frac{\\int_{X_p} A_2 \\ \\mathrm dS}{\\int_{X_p} \\mathrm dV} - \\frac{\\int_{X_n} A_2 \\ \\mathrm dV}{\\int_{X_n} \\ \\mathrm dS} \\right). $$\n",
    "\n",
    "**Exercise**: Define the flux through the coil in direction $x_1$ as `ns.flux` by filling in the dots and run the cell to print the flux.\n",
    "\n",
    "The integral over subdomain $X_\\text{p}$ is written as\n",
    "\n",
    "```\n",
    "X['p'].integral('... dS' @ ns, degree=3)\n",
    "```\n",
    "\n",
    "where `degree` should be chosen appropriately. The stack length $l_\\text{stack}$ is available as `lstack`.\n",
    "\n",
    "[Stokes' theorem]: https://en.wikipedia.org/wiki/Stokes%27_theorem"
   ]
  },
  {
   "cell_type": "code",
   "execution_count": null,
   "id": "ccd78d01-14df-407c-b1e3-5acbebd2aa57",
   "metadata": {},
   "outputs": [],
   "source": [
    "ns.flux = lstack * (...) # <-- fill in the dots\n",
    "print_scalar('flux', 'mWb')"
   ]
  },
  {
   "cell_type": "markdown",
   "id": "1fb05bd9-0a23-4c23-ab88-8f15ad0d837d",
   "metadata": {},
   "source": [
    "## Exercise 1.3: Compute the torque applied to the rotor\n",
    "\n",
    "The torque applied to the rotor can be computed via Arkkio's method by integrating the Maxwell stress tensor over an annulus enclosing the rotor:\n",
    "\n",
    "$$ \\tau_\\text{rotor} = \\frac{l_\\text{stack}}{\\Delta r} \\int_{X_\\text{torque probe}} \\nu B_i e_{ri} B_j e_{\\phi j} r \\ \\mathrm dS, $$\n",
    "\n",
    "where $e_{ri}$ is the unit vector in direction $r$ and $e_{\\phi i}$ is the unit vector in direction $\\phi$.\n",
    "\n",
    "**Exercise**: Define the torque applied to the rotor as `ns.torque` by applying Arkkio's method on subdomain `X['torque_probe']` and run the cell to print the torque.\n",
    "\n",
    "The height of the annulus $\\Delta r$ is available as `height_torque_probe` (dimension: length), the vector $e_{r}$ as `'er_i'` (index `i` can be replaced with any latin character) in a namespace expression and the vector $e_{\\phi}$ as `'ephi_j'`."
   ]
  },
  {
   "cell_type": "code",
   "execution_count": null,
   "id": "8670cf73-aae9-45c2-a83a-af5d6239d534",
   "metadata": {},
   "outputs": [],
   "source": [
    "ns.torque = X['torque_probe'].integral('...' @ ns, degree=6) \\ # <-- fill in the dots\n",
    "    * lstack / height_torque_probe\n",
    "print_scalar('torque', 'mN*m')"
   ]
  },
  {
   "cell_type": "markdown",
   "id": "0b1c4bbd-fb19-43c0-badc-a461e53a2a40",
   "metadata": {},
   "source": [
    "## Exercise 1.4: Find the required current for a specific torque\n",
    "\n",
    "**Exercise**: Find the current such that the torque applied to the rotor is `1mN*m` by repeatedly changing the value of `args['I']` in the cell below and running the cell."
   ]
  },
  {
   "cell_type": "code",
   "execution_count": null,
   "id": "ca9cdc30-9019-4c95-be90-a4ff0f03959f",
   "metadata": {},
   "outputs": [],
   "source": [
    "args['I'] = 10.0 # unit: A\n",
    "args = system.solve(constrain=constraints, arguments=args)\n",
    "print_scalar('torque', 'mN*m')"
   ]
  },
  {
   "cell_type": "markdown",
   "id": "0dd16c14-ca89-4c6e-b45b-841c2a701a70",
   "metadata": {},
   "source": [
    "## Use minimize to find the required current for a specific torque\n",
    "\n",
    "We can write the above exercise as a minimization problem: find the $I$ that minimizes the scalar $f := (\\tau - \\tau_\\text{desired})^2$. We solve this problem by using Newton on the derivative of the $f$ to $I$. We don't have to do this by hand, because Nutils can compute (symbolic) derivatives of `nutils.function.Array`s. The companion script `nutils_solver_extra` contains an implementation:"
   ]
  },
  {
   "cell_type": "code",
   "execution_count": null,
   "id": "f21b0b51-6440-4f1e-9698-c0b3ea3dd5d7",
   "metadata": {},
   "outputs": [],
   "source": [
    "from nutils_solver_extra import minimize\n",
    "args = minimize(\n",
    "    # the scalar to minimize\n",
    "    ((ns.torque - Torque('1mN*m')) / 'mN*m')**2,\n",
    "    # the argument(s) to minimize for\n",
    "    'I',\n",
    "    # the residual of the weak form\n",
    "    # required to evaluate the quantity to minimize\n",
    "    residual,\n",
    "    # the test function(s) of the weak form\n",
    "    'A2',\n",
    "    # the trial function(s) of the weak form\n",
    "    'beta2',\n",
    "    # the constraints of the weak form\n",
    "    constrain=constraints,\n",
    "    # stop minimizing when the norm of the gradient\n",
    "    # of the scalar to minimize and the residual\n",
    "    # are below tol\n",
    "    tol=1e-8,\n",
    "    # the starting point of the minimization\n",
    "    arguments=args,\n",
    ")\n",
    "print_scalar('I', 'A')"
   ]
  }
 ],
 "metadata": {
  "kernelspec": {
   "display_name": "Python 3 (ipykernel)",
   "language": "python",
   "name": "python3"
  },
  "language_info": {
   "codemirror_mode": {
    "name": "ipython",
    "version": 3
   },
   "file_extension": ".py",
   "mimetype": "text/x-python",
   "name": "python",
   "nbconvert_exporter": "python",
   "pygments_lexer": "ipython3",
   "version": "3.11.2"
  }
 },
 "nbformat": 4,
 "nbformat_minor": 5
}
